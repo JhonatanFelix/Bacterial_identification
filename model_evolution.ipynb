{
 "cells": [
  {
   "cell_type": "code",
   "execution_count": 1,
   "id": "448ca06b-729c-47a3-bb5d-8234d69db606",
   "metadata": {},
   "outputs": [],
   "source": [
    "import matplotlib.pyplot as plt\n",
    "import numpy as np\n",
    "import pandas as pd"
   ]
  },
  {
   "cell_type": "code",
   "execution_count": 2,
   "id": "013601eb-dd54-4f38-a2ef-478173cc7392",
   "metadata": {},
   "outputs": [],
   "source": [
    "path_train = 'classification_vg/Bacterial_identification_DNA_oligomers/data/train.csv'\n",
    "df = pd.read_csv(path_train, sep  = ',', index_col = 0)"
   ]
  },
  {
   "cell_type": "code",
   "execution_count": 8,
   "id": "d75bd914-74b4-4fb5-b350-96ab5ed8c01e",
   "metadata": {},
   "outputs": [
    {
     "name": "stdout",
     "output_type": "stream",
     "text": [
      "The dimensions of my entire DataFrame are: (200000, 286)\n",
      "The dimension of my vector target is: (200000,)\n",
      "The DataFrame has 0 nul values\n",
      "The DataFrame has 0 non numeric columns\n"
     ]
    }
   ],
   "source": [
    "X = df.drop(columns = ['target'])\n",
    "\n",
    "from sklearn.preprocessing import LabelEncoder\n",
    "\n",
    "label_encoder = LabelEncoder()\n",
    "Y = label_encoder.fit_transform(df['target'])\n",
    "\n",
    "print(f\"The dimensions of my entire DataFrame are: {X.shape}\")\n",
    "print(f\"The dimension of my vector target is: {Y.shape}\")\n",
    "\n",
    "nul = X.isnull().sum()[X.isnull().sum() != 0]\n",
    "non_numeric = X.dtypes[X.dtypes != 'float64']\n",
    "\n",
    "print(f\"The DataFrame has {len(nul)} nul values\")\n",
    "print(f\"The DataFrame has {len(non_numeric)} non numeric columns\")"
   ]
  },
  {
   "cell_type": "markdown",
   "id": "22cd2e50-ae3a-4cdc-87d1-38421d3e34e8",
   "metadata": {},
   "source": [
    "### Separating variables using RandomForestClassifier criterion of importance"
   ]
  },
  {
   "cell_type": "code",
   "execution_count": 12,
   "id": "1434265c-1835-476f-9b38-a181cbe44ef0",
   "metadata": {},
   "outputs": [],
   "source": [
    "from sklearn.ensemble import RandomForestClassifier\n",
    "from sklearn.ensemble import GradientBoostingClassifier\n",
    "from xgboost import XGBClassifier\n",
    "from sklearn.model_selection import train_test_split\n",
    "from sklearn.metrics import accuracy_score, classification_report\n",
    "\n",
    "def selected_features(X,Y,p):\n",
    "    model = RandomForestClassifier(n_estimators=200, random_state=42, n_jobs= -1)\n",
    "    model.fit(X, Y)\n",
    "    \n",
    "    feature_importances = model.feature_importances_\n",
    "    \n",
    "    importance_df = pd.DataFrame({\n",
    "        'Feature': X.columns,\n",
    "        'Importance': feature_importances\n",
    "    }).sort_values(by='Importance', ascending=False)\n",
    "    \n",
    "    cumulative_importance = importance_df['Importance'].cumsum()\n",
    "    selected_features = importance_df[cumulative_importance <= p]['Feature'].values\n",
    "    \n",
    "    return X[selected_features]\n",
    "\n",
    "def XGB_model(X,Y,p):\n",
    "    X_selected = selected_features(X,Y,p)\n",
    "    X_train, X_test, y_train, y_test = train_test_split(X_selected, Y, test_size=0.3, random_state=42)\n",
    "\n",
    "    modelXGB = XGBClassifier(n_jobs=-1)  \n",
    "    modelXGB.fit(X_train, y_train)\n",
    "    \n",
    "    y_pred_XGB = modelXGB.predict(X_test)\n",
    "    \n",
    "    return accuracy_score(y_test, y_pred_XGB), classification_report(y_test, y_pred_XGB, output_dict = True)"
   ]
  },
  {
   "cell_type": "code",
   "execution_count": 14,
   "id": "79d22dc8-5e0a-4edb-a522-13c59b19b851",
   "metadata": {},
   "outputs": [
    {
     "name": "stdout",
     "output_type": "stream",
     "text": [
      "0.9127166666666666\n",
      "                     0            1            2            3            4  \\\n",
      "precision     0.946447     0.878975     0.832523     0.945062     0.932240   \n",
      "recall        0.921994     0.933290     0.858409     0.931040     0.938616   \n",
      "f1-score      0.934060     0.905318     0.845267     0.937999     0.935417   \n",
      "support    6038.000000  6101.000000  5982.000000  5931.000000  5995.000000   \n",
      "\n",
      "                     5            6            7            8            9  \\\n",
      "precision     0.976060     0.964664     0.924308     0.855248     0.881157   \n",
      "recall        0.970748     0.948858     0.900754     0.870883     0.853520   \n",
      "f1-score      0.973397     0.956696     0.912379     0.862995     0.867119   \n",
      "support    5880.000000  6042.000000  5965.000000  6072.000000  5994.000000   \n",
      "\n",
      "           accuracy     macro avg  weighted avg  \n",
      "precision  0.912717      0.913668      0.913455  \n",
      "recall     0.912717      0.912811      0.912717  \n",
      "f1-score   0.912717      0.913065      0.912910  \n",
      "support    0.912717  60000.000000  60000.000000  \n"
     ]
    }
   ],
   "source": [
    "acc, report = XGB_model(X,Y,0.25)\n",
    "print(acc)\n",
    "print(pd.DataFrame(report))"
   ]
  },
  {
   "cell_type": "code",
   "execution_count": 16,
   "id": "3e3d9794-84e7-409d-bc2b-d439154247c1",
   "metadata": {},
   "outputs": [],
   "source": [
    "thresholds = [1, 0.75, 0.6, 0.4, 0.3, 0.2, 0.1]\n",
    "accuracies = []\n",
    "reports = []\n",
    "\n",
    "for threshold in thresholds:\n",
    "    acc, report = XGB_model(X,Y, threshold)\n",
    "    accuracies.append(acc)\n",
    "    reports.append(report)"
   ]
  },
  {
   "cell_type": "code",
   "execution_count": 19,
   "id": "a2cb6a3f-3352-491c-b859-67db9b3d384a",
   "metadata": {},
   "outputs": [
    {
     "data": {
      "image/png": "[encoded data removed]",
      "text/plain": [
       "<Figure size 640x480 with 1 Axes>"
      ]
     },
     "metadata": {},
     "output_type": "display_data"
    }
   ],
   "source": [
    "for i in range(len(thresholds)):\n",
    "    thresholds[i] = str(thresholds[i])\n",
    "\n",
    "plt.plot(thresholds, accuracies)\n",
    "plt.show()"
   ]
  },
  {
   "cell_type": "code",
   "execution_count": null,
   "id": "bcae9fa7-0cc4-42b7-8269-4da7f13452fb",
   "metadata": {},
   "outputs": [],
   "source": [
    "fig, (ax1, ax2) = plt.subplots(1,2, figsize = (10,5))\n",
    "\n",
    "ax1.plot"
   ]
  }
 ],
 "metadata": {
  "kernelspec": {
   "display_name": "Python 3 (ipykernel)",
   "language": "python",
   "name": "python3"
  },
  "language_info": {
   "codemirror_mode": {
    "name": "ipython",
    "version": 3
   },
   "file_extension": ".py",
   "mimetype": "text/x-python",
   "name": "python",
   "nbconvert_exporter": "python",
   "pygments_lexer": "ipython3",
   "version": "3.8.10"
  },
  "widgets": {
   "application/vnd.jupyter.widget-state+json": {
    "state": {},
    "version_major": 2,
    "version_minor": 0
   }
  }
 },
 "nbformat": 4,
 "nbformat_minor": 5
}
