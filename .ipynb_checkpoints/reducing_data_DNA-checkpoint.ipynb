{
 "cells": [
  {
   "cell_type": "markdown",
   "metadata": {},
   "source": [
    "## 1. Introduction GNS data to microbe classification\n",
    "\n",
    " We have a big dataset so we want to reduce the dimensions in it...."
   ]
  },
  {
   "cell_type": "code",
   "execution_count": 2,
   "metadata": {},
   "outputs": [],
   "source": [
    "import matplotlib.pyplot as plt\n",
    "import numpy as np\n",
    "import pandas as pd"
   ]
  },
  {
   "cell_type": "code",
   "execution_count": 3,
   "metadata": {},
   "outputs": [],
   "source": [
    "path_train = 'classification_vg/Bacterial_identification_DNA_oligomers/data/train.csv'\n",
    "df = pd.read_csv(path_train, sep  = ',', index_col = 0)"
   ]
  },
  {
   "cell_type": "code",
   "execution_count": 4,
   "metadata": {},
   "outputs": [],
   "source": [
    "Y = df['target']\n",
    "X = df.drop(columns = ['target'])\n",
    "\n",
    "from sklearn.preprocessing import LabelEncoder\n",
    "label_encoder = LabelEncoder()\n",
    "Y = label_encoder.fit_transform(df['target'])"
   ]
  },
  {
   "cell_type": "code",
   "execution_count": 15,
   "metadata": {},
   "outputs": [
    {
     "name": "stdout",
     "output_type": "stream",
     "text": [
      "The dimensions of my train DataFrame are:(200000, 286)\n",
      "The dimension of my target vector is:(200000,)\n"
     ]
    }
   ],
   "source": [
    "print(f\"The dimensions of my train DataFrame are:{X.shape}\")\n",
    "print(f\"The dimension of my target vector is:{Y.shape}\")"
   ]
  },
  {
   "cell_type": "code",
   "execution_count": 16,
   "metadata": {},
   "outputs": [
    {
     "name": "stdout",
     "output_type": "stream",
     "text": [
      "Series([], dtype: int64)\n",
      "Series([], dtype: object)\n"
     ]
    }
   ],
   "source": [
    "print(X.isnull().sum()[X.isnull().sum() != 0])\n",
    "print(X.dtypes[X.dtypes != 'float64'])"
   ]
  },
  {
   "cell_type": "markdown",
   "metadata": {},
   "source": [
    "How to reduce the dimensions of the data? The first idea is to use a model of decomposition, or a information criterion to exclude some variables while doing the analysis"
   ]
  },
  {
   "cell_type": "markdown",
   "metadata": {},
   "source": [
    "We have a lot of methods to reduce dimentionality, the principal ideas are ''RandomForestClassifier'', Principal Component Analysis (PCA), Autoencoders, pearson correlation test, Recursive Feature Elimination (RFE), akaike criterion"
   ]
  },
  {
   "cell_type": "markdown",
   "metadata": {
    "jp-MarkdownHeadingCollapsed": true
   },
   "source": [
    "### Akaike criterion"
   ]
  },
  {
   "cell_type": "code",
   "execution_count": 5,
   "metadata": {
    "collapsed": true,
    "jupyter": {
     "outputs_hidden": true
    }
   },
   "outputs": [
    {
     "data": {
      "text/plain": [
       "[('A3T3G2C2', 986948.9136313926),\n",
       " ('A7T2G1C0', 987377.3171091204),\n",
       " ('A1T7G0C2', 987777.4714120368),\n",
       " ('A8T1G1C0', 987827.4677093099),\n",
       " ('A3T7G0C0', 987943.270321532),\n",
       " ('A1T8G0C1', 988225.0661281015),\n",
       " ('A1T7G1C1', 988277.9392651439),\n",
       " ('A4T6G0C0', 988468.4409273467),\n",
       " ('A8T2G0C0', 988518.8313555499),\n",
       " ('A7T2G0C1', 988555.6817607414),\n",
       " ('A7T1G1C1', 988595.5807153953),\n",
       " ('A8T1G0C1', 988602.7476067932),\n",
       " ('A2T4G2C2', 988705.9283344318),\n",
       " ('A2T7G0C1', 988784.9097027966),\n",
       " ('A6T2G2C0', 988792.5999506812),\n",
       " ('A3T3G3C1', 988802.70088092),\n",
       " ('A7T3G0C0', 988835.8880297549),\n",
       " ('A2T8G0C0', 988846.9708095687),\n",
       " ('A8T0G1C1', 988861.8904805073),\n",
       " ('A2T7G1C0', 988876.784064744),\n",
       " ('A4T2G2C2', 988893.2194305409),\n",
       " ('A3T3G1C3', 988952.50188503),\n",
       " ('A6T4G0C0', 988956.93431616),\n",
       " ('A7T1G2C0', 989007.7869416047),\n",
       " ('A3T6G0C1', 989031.9708612452),\n",
       " ('A0T8G1C1', 989050.7941420947),\n",
       " ('A3T4G2C1', 989061.7182082995),\n",
       " ('A5T1G1C3', 989179.4471450197),\n",
       " ('A3T4G1C2', 989183.8062128406),\n",
       " ('A6T1G2C1', 989240.7263990017),\n",
       " ('A1T9G0C0', 989272.8187605899),\n",
       " ('A6T3G1C0', 989275.0564930704),\n",
       " ('A4T3G1C2', 989305.698852134),\n",
       " ('A1T8G1C0', 989306.1695589493),\n",
       " ('A4T2G1C3', 989308.7718576192),\n",
       " ('A0T8G2C0', 989401.4399095841),\n",
       " ('A6T3G0C1', 989410.577635937),\n",
       " ('A6T1G3C0', 989479.889522341),\n",
       " ('A4T2G0C4', 989548.8663284377),\n",
       " ('A2T5G2C1', 989556.4586607041),\n",
       " ('A3T6G1C0', 989562.5719768269),\n",
       " ('A4T5G0C1', 989567.3046134326),\n",
       " ('A7T0G2C1', 989572.8754440637),\n",
       " ('A8T0G2C0', 989598.1288021167),\n",
       " ('A2T4G3C1', 989599.6674572965),\n",
       " ('A9T0G1C0', 989611.2708079787),\n",
       " ('A1T6G1C2', 989623.1210177398),\n",
       " ('A4T3G2C1', 989635.780689635),\n",
       " ('A7T1G0C2', 989681.1241347844),\n",
       " ('A9T1G0C0', 989684.9967749077),\n",
       " ('A2T3G3C2', 989685.796361635),\n",
       " ('A0T1G9C0', 989708.3101690658),\n",
       " ('A1T7G2C0', 989709.96655455),\n",
       " ('A3T2G3C2', 989722.1072475761),\n",
       " ('A3T2G2C3', 989750.4644765079),\n",
       " ('A1T6G0C3', 989761.9161709351),\n",
       " ('A1T4G4C1', 989771.9987749064),\n",
       " ('A5T5G0C0', 989776.0873174788),\n",
       " ('A6T0G3C1', 989778.9200965911),\n",
       " ('A0T9G1C0', 989783.976870798),\n",
       " ('A4T3G0C3', 989803.8950365674),\n",
       " ('A2T4G1C3', 989809.7373089871),\n",
       " ('A2T6G1C1', 989827.9490663523),\n",
       " ('A2T6G0C2', 989831.5242681485),\n",
       " ('A0T8G0C2', 989837.5375319129),\n",
       " ('A2T3G4C1', 989839.3388108908),\n",
       " ('A4T5G1C0', 989848.1609009812),\n",
       " ('A3T0G6C1', 989881.4090622014),\n",
       " ('A0T7G1C2', 989896.7809830862),\n",
       " ('A5T4G1C0', 989902.9264233569),\n",
       " ('A1T3G0C6', 989908.8553168774),\n",
       " ('A1T5G1C3', 989924.6706179334),\n",
       " ('A7T0G1C2', 989926.498547404),\n",
       " ('A3T2G1C4', 989933.0251822375),\n",
       " ('A4T1G1C4', 989957.7287838627),\n",
       " ('A5T2G0C3', 989960.1200376137),\n",
       " ('A3T3G0C4', 989961.5605677766),\n",
       " ('A1T5G3C1', 989965.068267992),\n",
       " ('A4T0G4C2', 989965.9876237249),\n",
       " ('A0T5G2C3', 989970.4279648127),\n",
       " ('A1T2G2C5', 989976.4842541328),\n",
       " ('A0T9G0C1', 989978.2165581982),\n",
       " ('A2T5G3C0', 989979.2147018334),\n",
       " ('A1T4G3C2', 989979.8925214363),\n",
       " ('A1T2G1C6', 989983.0170444676),\n",
       " ('A0T6G1C3', 989985.3503580351),\n",
       " ('A5T0G3C2', 989987.590808261),\n",
       " ('A0T0G4C6', 989995.238381048),\n",
       " ('A5T0G4C1', 990000.0277578637),\n",
       " ('A8T0G0C2', 990005.0814775341),\n",
       " ('A0T4G1C5', 990005.1586471545),\n",
       " ('A0T1G5C4', 990006.1286788431),\n",
       " ('A0T4G2C4', 990006.9897069235),\n",
       " ('A4T3G3C0', 990007.7824282055),\n",
       " ('A0T0G6C4', 990012.9028519467),\n",
       " ('A1T0G4C5', 990019.9288808798),\n",
       " ('A0T0G10C0', 990027.3427792282),\n",
       " ('A1T3G2C4', 990029.3540880128),\n",
       " ('A4T0G6C0', 990030.959956957),\n",
       " ('A3T1G5C1', 990041.8227324898),\n",
       " ('A0T0G5C5', 990044.105482492),\n",
       " ('A3T1G0C6', 990045.5825172898),\n",
       " ('A4T1G2C3', 990045.7151014581),\n",
       " ('A3T1G6C0', 990052.9186451294),\n",
       " ('A2T3G2C3', 990054.5239869275),\n",
       " ('A6T0G0C4', 990056.7274840742),\n",
       " ('A0T1G4C5', 990065.5291202147),\n",
       " ('A5T4G0C1', 990069.7343844203),\n",
       " ('A0T6G0C4', 990070.086210566),\n",
       " ('A6T2G1C1', 990071.4268770991),\n",
       " ('A9T0G0C1', 990074.2152586344),\n",
       " ('A5T2G1C2', 990075.5304284384),\n",
       " ('A4T0G5C1', 990084.5421167726),\n",
       " ('A1T5G4C0', 990095.9529351606),\n",
       " ('A4T2G3C1', 990100.6601246685),\n",
       " ('A1T3G1C5', 990103.1349074184),\n",
       " ('A1T2G5C2', 990104.0230063498),\n",
       " ('A1T0G3C6', 990104.073498197),\n",
       " ('A1T0G5C4', 990108.3156501736),\n",
       " ('A4T2G4C0', 990111.5247482042),\n",
       " ('A0T7G2C1', 990113.3406659517),\n",
       " ('A1T5G0C4', 990118.5148251576),\n",
       " ('A5T0G0C5', 990118.633355273),\n",
       " ('A0T3G1C6', 990119.7066459893),\n",
       " ('A1T4G1C4', 990121.6403847726),\n",
       " ('A0T7G0C3', 990122.3487126844),\n",
       " ('A2T4G4C0', 990125.55586738),\n",
       " ('A0T3G2C5', 990127.0488098834),\n",
       " ('A0T1G3C6', 990129.3231416154),\n",
       " ('A0T4G4C2', 990131.9988676212),\n",
       " ('A5T1G0C4', 990134.7263075314),\n",
       " ('A1T5G2C2', 990135.9872219204),\n",
       " ('A0T0G3C7', 990139.3270149531),\n",
       " ('A2T1G1C6', 990139.6599895505),\n",
       " ('A0T0G7C3', 990140.9532065825),\n",
       " ('A3T1G4C2', 990141.9472866165),\n",
       " ('A2T0G7C1', 990143.1897441619),\n",
       " ('A3T2G4C1', 990143.4128740279),\n",
       " ('A2T6G2C0', 990146.8406403598),\n",
       " ('A0T3G0C7', 990150.6441544049),\n",
       " ('A7T0G3C0', 990152.689331813),\n",
       " ('A3T4G0C3', 990157.8350459493),\n",
       " ('A0T1G1C8', 990159.3674718391),\n",
       " ('A1T0G6C3', 990160.7570390158),\n",
       " ('A2T1G2C5', 990160.8049740584),\n",
       " ('A3T4G3C0', 990162.0374612681),\n",
       " ('A3T5G1C1', 990163.2024481657),\n",
       " ('A0T6G2C2', 990164.022016461),\n",
       " ('A3T0G4C3', 990164.7679300192),\n",
       " ('A1T4G0C5', 990165.0792651272),\n",
       " ('A2T1G6C1', 990165.344515198),\n",
       " ('A2T0G8C0', 990167.0469372387),\n",
       " ('A1T3G4C2', 990168.6824623024),\n",
       " ('A1T6G3C0', 990169.4371109423),\n",
       " ('A1T0G9C0', 990171.2630788141),\n",
       " ('A4T4G2C0', 990172.2693598175),\n",
       " ('A4T0G3C3', 990172.3736824772),\n",
       " ('A2T2G1C5', 990172.4389956886),\n",
       " ('A0T2G0C8', 990174.6947846271),\n",
       " ('A0T1G6C3', 990174.9429785968),\n",
       " ('A2T3G1C4', 990178.4664169808),\n",
       " ('A2T5G0C3', 990178.6136986393),\n",
       " ('A4T1G4C1', 990179.9933550111),\n",
       " ('A5T0G1C4', 990181.0043225437),\n",
       " ('A0T0G0C10', 990183.9442530193),\n",
       " ('A5T1G3C1', 990187.6992861114),\n",
       " ('A6T1G1C2', 990187.9256670859),\n",
       " ('A1T2G3C4', 990189.9123658685),\n",
       " ('A2T2G3C3', 990190.4839799308),\n",
       " ('A4T1G5C0', 990190.7710546425),\n",
       " ('A1T6G2C1', 990190.8915889686),\n",
       " ('A3T5G2C0', 990192.5685066448),\n",
       " ('A2T1G0C7', 990192.8147248504),\n",
       " ('A2T1G5C2', 990192.9275670674),\n",
       " ('A2T0G0C8', 990193.518081377),\n",
       " ('A0T3G6C1', 990195.5211270291),\n",
       " ('A6T0G2C2', 990196.5779971115),\n",
       " ('A5T1G4C0', 990197.0738619403),\n",
       " ('A4T4G0C2', 990197.8613108473),\n",
       " ('A0T3G3C4', 990201.3466211124),\n",
       " ('A4T1G0C5', 990201.7635805244),\n",
       " ('A0T5G0C5', 990202.4651524633),\n",
       " ('A1T4G5C0', 990203.7355717559),\n",
       " ('A5T3G2C0', 990206.2763939151),\n",
       " ('A2T0G3C5', 990206.8510227299),\n",
       " ('A2T5G1C2', 990206.9589860435),\n",
       " ('A2T1G3C4', 990208.0788405928),\n",
       " ('A3T5G0C2', 990208.8690736282),\n",
       " ('A4T4G1C1', 990208.9619338638),\n",
       " ('A1T3G3C3', 990213.6129872433),\n",
       " ('A2T4G0C4', 990213.951842196),\n",
       " ('A0T5G1C4', 990214.2673997069),\n",
       " ('A1T2G6C1', 990214.657099952),\n",
       " ('A0T3G5C2', 990215.0787395663),\n",
       " ('A0T1G7C2', 990215.260573541),\n",
       " ('A2T3G0C5', 990215.4362162761),\n",
       " ('A2T2G2C4', 990216.1806547196),\n",
       " ('A2T1G4C3', 990216.8438608879),\n",
       " ('A0T10G0C0', 990217.1354196137),\n",
       " ('A2T3G5C0', 990219.475640066),\n",
       " ('A3T0G1C6', 990220.2605069265),\n",
       " ('A1T1G4C4', 990221.0339896961),\n",
       " ('A1T2G0C7', 990221.2065661778),\n",
       " ('A3T3G4C0', 990221.7881221452),\n",
       " ('A4T0G2C4', 990221.852350663),\n",
       " ('A6T2G0C2', 990222.9537314146),\n",
       " ('A1T1G7C1', 990223.0007815289),\n",
       " ('A3T0G5C2', 990223.0658294818),\n",
       " ('A1T2G4C3', 990223.2526658479),\n",
       " ('A0T4G6C0', 990224.0442153045),\n",
       " ('A2T0G6C2', 990224.0464834434),\n",
       " ('A2T2G5C1', 990224.8028389188),\n",
       " ('A5T2G3C0', 990225.44532224),\n",
       " ('A2T1G7C0', 990225.7080924481),\n",
       " ('A0T6G4C0', 990226.4376658413),\n",
       " ('A7T0G0C3', 990226.5488574217),\n",
       " ('A1T3G6C0', 990227.3114373304),\n",
       " ('A3T1G1C5', 990228.1149243097),\n",
       " ('A0T5G5C0', 990228.3994093044),\n",
       " ('A1T4G2C3', 990230.1829490985),\n",
       " ('A1T3G5C1', 990230.197276867),\n",
       " ('A2T2G4C2', 990230.4075971569),\n",
       " ('A1T0G0C9', 990231.1053936249),\n",
       " ('A6T1G0C3', 990231.3132123986),\n",
       " ('A0T4G0C6', 990231.5175568544),\n",
       " ('A3T2G5C0', 990232.6957778016),\n",
       " ('A3T1G3C3', 990232.7667733649),\n",
       " ('A2T2G0C6', 990233.0123965936),\n",
       " ('A2T2G6C0', 990233.6712816439),\n",
       " ('A0T3G7C0', 990236.1153571729),\n",
       " ('A1T0G8C1', 990236.2056829978),\n",
       " ('A0T5G4C1', 990236.2233297867),\n",
       " ('A3T1G2C4', 990236.5758977581),\n",
       " ('A0T1G2C7', 990240.2437824075),\n",
       " ('A3T0G2C5', 990240.4362374449),\n",
       " ('A6T0G1C3', 990240.524639983),\n",
       " ('A5T3G0C2', 990240.8253627159),\n",
       " ('A0T2G4C4', 990241.2151682264),\n",
       " ('A5T2G2C1', 990241.3714806656),\n",
       " ('A2T0G4C4', 990241.3859518627),\n",
       " ('A0T7G3C0', 990241.9034278286),\n",
       " ('A10T0G0C0', 990242.2543225281),\n",
       " ('A0T1G8C1', 990242.679363299),\n",
       " ('A1T0G1C8', 990243.2902969753),\n",
       " ('A0T6G3C1', 990243.3556442845),\n",
       " ('A1T0G7C2', 990243.392997443),\n",
       " ('A0T5G3C2', 990243.6427299056),\n",
       " ('A4T0G0C6', 990243.7327832631),\n",
       " ('A2T0G5C3', 990244.2308551593),\n",
       " ('A0T2G5C3', 990244.3393033948),\n",
       " ('A2T0G2C6', 990244.3669101956),\n",
       " ('A3T0G0C7', 990244.7709642668),\n",
       " ('A0T4G3C3', 990244.788060876),\n",
       " ('A0T2G8C0', 990245.1209789508),\n",
       " ('A0T2G2C6', 990245.2492729772),\n",
       " ('A3T2G0C5', 990245.2805955419),\n",
       " ('A1T1G3C5', 990245.4593139205),\n",
       " ('A0T2G1C7', 990245.6765330089),\n",
       " ('A0T3G4C3', 990245.7935041579),\n",
       " ('A4T0G1C5', 990245.8875074871),\n",
       " ('A0T1G0C9', 990245.9818976007),\n",
       " ('A0T0G8C2', 990246.0027317309),\n",
       " ('A0T2G6C2', 990246.4848529855),\n",
       " ('A0T2G7C1', 990246.7369346141),\n",
       " ('A5T1G2C2', 990246.8135887547),\n",
       " ('A1T1G8C0', 990247.2137233635),\n",
       " ('A5T3G1C1', 990247.2337257337),\n",
       " ('A1T0G2C7', 990247.342512621),\n",
       " ('A0T4G5C1', 990247.4354987016),\n",
       " ('A4T1G3C2', 990247.4618559685),\n",
       " ('A3T0G3C4', 990247.4648502984),\n",
       " ('A1T1G0C8', 990247.5538153707),\n",
       " ('A5T0G5C0', 990247.6201640309),\n",
       " ('A0T0G1C9', 990247.630679403),\n",
       " ('A0T0G9C1', 990247.6728904769),\n",
       " ('A6T0G4C0', 990247.7063143756),\n",
       " ('A2T0G1C7', 990247.9116488723),\n",
       " ('A1T1G5C3', 990248.2677629916),\n",
       " ('A1T1G1C7', 990248.2996071193),\n",
       " ('A1T1G6C2', 990248.342164627),\n",
       " ('A0T0G2C8', 990248.3654333453),\n",
       " ('A5T0G2C3', 990248.379458575),\n",
       " ('A1T2G7C0', 990248.3825636549),\n",
       " ('A1T1G2C6', 990248.3986212912),\n",
       " ('A0T2G3C5', 990248.4133866085),\n",
       " ('A3T0G7C0', 990248.4266306122)]"
      ]
     },
     "execution_count": 5,
     "metadata": {},
     "output_type": "execute_result"
    }
   ],
   "source": [
    "import statsmodels.api as sm\n",
    "aic_values = []\n",
    "\n",
    "# Iterating throught the columns \n",
    "for col in X.columns:\n",
    "    X_subset = sm.add_constant(X[[col]])  # Adiciona uma constante ao modelo\n",
    "    model = sm.OLS(Y, X_subset).fit()  # Ajusta o modelo de regressão linear\n",
    "    aic_values.append((col, model.aic))  # Armazena a coluna e o AIC\n",
    "\n",
    "aic_values.sort(key=lambda x: x[1])\n",
    "aic_values"
   ]
  },
  {
   "cell_type": "markdown",
   "metadata": {},
   "source": [
    "### RandomForestClassifier"
   ]
  },
  {
   "cell_type": "code",
   "execution_count": 5,
   "metadata": {},
   "outputs": [
    {
     "ename": "NameError",
     "evalue": "name 'top_features' is not defined",
     "output_type": "error",
     "traceback": [
      "\u001b[0;31m---------------------------------------------------------------------------\u001b[0m",
      "\u001b[0;31mNameError\u001b[0m                                 Traceback (most recent call last)",
      "Cell \u001b[0;32mIn[5], line 18\u001b[0m\n\u001b[1;32m     15\u001b[0m \u001b[38;5;66;03m#top_features = importance_df.head(10)['Feature'].values\u001b[39;00m\n\u001b[1;32m     16\u001b[0m X_reduced \u001b[38;5;241m=\u001b[39m X[selected_features]\n\u001b[0;32m---> 18\u001b[0m \u001b[38;5;28mprint\u001b[39m(\u001b[38;5;124mf\u001b[39m\u001b[38;5;124m\"\u001b[39m\u001b[38;5;124mTop características selecionadas: \u001b[39m\u001b[38;5;132;01m{\u001b[39;00mtop_features\u001b[38;5;132;01m}\u001b[39;00m\u001b[38;5;124m\"\u001b[39m)\n",
      "\u001b[0;31mNameError\u001b[0m: name 'top_features' is not defined"
     ]
    }
   ],
   "source": [
    "from sklearn.ensemble import RandomForestClassifier\n",
    "\n",
    "model = RandomForestClassifier(n_estimators=100, random_state=42)\n",
    "model.fit(X, Y)\n",
    "\n",
    "feature_importances = model.feature_importances_\n",
    "\n",
    "importance_df = pd.DataFrame({\n",
    "    'Feature': X.columns,\n",
    "    'Importance': feature_importances\n",
    "}).sort_values(by='Importance', ascending=False)\n",
    "\n",
    "cumulative_importance = importance_df['Importance'].cumsum()\n",
    "selected_features = importance_df[cumulative_importance <= 0.5]['Feature'].values\n",
    "#top_features = importance_df.head(10)['Feature'].values\n",
    "X_reduced = X[selected_features]\n",
    "\n",
    "print(f\"Top características selecionadas: {select}\")"
   ]
  },
  {
   "cell_type": "code",
   "execution_count": 7,
   "metadata": {},
   "outputs": [
    {
     "data": {
      "text/plain": [
       "(200000, 76)"
      ]
     },
     "execution_count": 7,
     "metadata": {},
     "output_type": "execute_result"
    }
   ],
   "source": [
    "X_reduced.shape"
   ]
  },
  {
   "cell_type": "code",
   "execution_count": 23,
   "metadata": {
    "collapsed": true,
    "jupyter": {
     "outputs_hidden": true
    },
    "scrolled": true
   },
   "outputs": [
    {
     "name": "stdout",
     "output_type": "stream",
     "text": [
      "      Feature  Importance\n",
      "80   A1T1G4C4    0.014371\n",
      "134  A2T1G4C3    0.012675\n",
      "88   A1T2G3C4    0.010872\n",
      "90   A1T2G5C2    0.010430\n",
      "229  A4T6G0C0    0.010028\n",
      "70   A1T0G4C5    0.009914\n",
      "228  A4T5G1C0    0.009652\n",
      "133  A2T1G3C4    0.009364\n",
      "87   A1T2G2C5    0.008750\n",
      "71   A1T0G5C4    0.008621\n",
      "189  A3T3G2C2    0.008567\n",
      "15   A0T1G4C5    0.008548\n",
      "79   A1T1G3C5    0.008545\n",
      "190  A3T3G3C1    0.008296\n",
      "16   A0T1G5C4    0.008218\n",
      "249  A5T4G1C0    0.008170\n",
      "89   A1T2G4C3    0.008158\n",
      "197  A3T5G1C1    0.008118\n",
      "132  A2T1G2C5    0.008070\n",
      "153  A2T4G2C2    0.008040\n",
      "227  A4T5G0C1    0.007679\n",
      "5    A0T0G5C5    0.007435\n",
      "40   A0T4G2C4    0.007398\n",
      "217  A4T2G2C2    0.007057\n",
      "206  A4T0G4C2    0.006676\n",
      "141  A2T2G3C3    0.006655\n",
      "154  A2T4G3C1    0.006651\n",
      "188  A3T3G1C3    0.006417\n",
      "193  A3T4G1C2    0.006154\n",
      "126  A2T0G5C3    0.006093\n",
      "63   A0T9G0C1    0.006024\n",
      "265  A6T4G0C0    0.006007\n",
      "81   A1T1G5C3    0.005982\n",
      "100  A1T4G0C5    0.005978\n",
      "216  A4T2G1C3    0.005970\n",
      "104  A1T4G4C1    0.005950\n",
      "135  A2T1G5C2    0.005889\n",
      "39   A0T4G1C5    0.005877\n",
      "215  A4T2G0C4    0.005861\n",
      "226  A4T4G2C0    0.005779\n",
      "214  A4T1G5C0    0.005768\n",
      "221  A4T3G1C2    0.005722\n",
      "261  A6T2G1C1    0.005670\n",
      "283  A9T0G1C0    0.005616\n",
      "237  A5T1G1C3    0.005520\n",
      "24   A0T2G3C5    0.005401\n",
      "263  A6T3G0C1    0.005392\n",
      "38   A0T4G0C6    0.005383\n",
      "200  A3T6G1C0    0.005332\n",
      "49   A0T5G4C1    0.005251\n",
      "Feature       A0T5G4C1\n",
      "Importance    0.005251\n",
      "Name: 49, dtype: object\n"
     ]
    }
   ],
   "source": [
    "n = 50\n",
    "print(importance_df.head(n))\n",
    "print(importance_df.head(n).iloc[-1])"
   ]
  },
  {
   "cell_type": "code",
   "execution_count": 24,
   "metadata": {},
   "outputs": [
    {
     "data": {
      "text/plain": [
       "Feature       A1T1G4C4A2T1G4C3A1T2G3C4A1T2G5C2A4T6G0C0A1T0G4...\n",
       "Importance                                                  1.0\n",
       "dtype: object"
      ]
     },
     "execution_count": 24,
     "metadata": {},
     "output_type": "execute_result"
    }
   ],
   "source": [
    "sum = 0\n",
    "\n",
    "while feature, importance in importance_df:\n",
    "    sum += importance\n",
    "    if importance > 0.5:\n",
    "        \n",
    "        break"
   ]
  },
  {
   "cell_type": "markdown",
   "metadata": {},
   "source": [
    "### Pearson correlation test"
   ]
  }
 ],
 "metadata": {
  "kernelspec": {
   "display_name": "Python 3 (ipykernel)",
   "language": "python",
   "name": "python3"
  },
  "language_info": {
   "codemirror_mode": {
    "name": "ipython",
    "version": 3
   },
   "file_extension": ".py",
   "mimetype": "text/x-python",
   "name": "python",
   "nbconvert_exporter": "python",
   "pygments_lexer": "ipython3",
   "version": "3.8.10"
  }
 },
 "nbformat": 4,
 "nbformat_minor": 4
}
